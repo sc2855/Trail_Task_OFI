{
 "cells": [
  {
   "cell_type": "markdown",
   "metadata": {},
   "source": [
    "EXPLORING THE DATASET"
   ]
  },
  {
   "cell_type": "markdown",
   "metadata": {},
   "source": [
    "1. Loading the Dataset"
   ]
  },
  {
   "cell_type": "code",
   "execution_count": 4,
   "metadata": {},
   "outputs": [
    {
     "data": {
      "text/html": [
       "<div>\n",
       "<style scoped>\n",
       "    .dataframe tbody tr th:only-of-type {\n",
       "        vertical-align: middle;\n",
       "    }\n",
       "\n",
       "    .dataframe tbody tr th {\n",
       "        vertical-align: top;\n",
       "    }\n",
       "\n",
       "    .dataframe thead th {\n",
       "        text-align: right;\n",
       "    }\n",
       "</style>\n",
       "<table border=\"1\" class=\"dataframe\">\n",
       "  <thead>\n",
       "    <tr style=\"text-align: right;\">\n",
       "      <th></th>\n",
       "      <th>ts_recv</th>\n",
       "      <th>ts_event</th>\n",
       "      <th>rtype</th>\n",
       "      <th>publisher_id</th>\n",
       "      <th>instrument_id</th>\n",
       "      <th>action</th>\n",
       "      <th>side</th>\n",
       "      <th>depth</th>\n",
       "      <th>price</th>\n",
       "      <th>size</th>\n",
       "      <th>...</th>\n",
       "      <th>ask_sz_08</th>\n",
       "      <th>bid_ct_08</th>\n",
       "      <th>ask_ct_08</th>\n",
       "      <th>bid_px_09</th>\n",
       "      <th>ask_px_09</th>\n",
       "      <th>bid_sz_09</th>\n",
       "      <th>ask_sz_09</th>\n",
       "      <th>bid_ct_09</th>\n",
       "      <th>ask_ct_09</th>\n",
       "      <th>symbol</th>\n",
       "    </tr>\n",
       "  </thead>\n",
       "  <tbody>\n",
       "    <tr>\n",
       "      <th>0</th>\n",
       "      <td>2024-10-21T11:54:29.221230963Z</td>\n",
       "      <td>2024-10-21T11:54:29.221064336Z</td>\n",
       "      <td>10</td>\n",
       "      <td>2</td>\n",
       "      <td>38</td>\n",
       "      <td>C</td>\n",
       "      <td>B</td>\n",
       "      <td>1</td>\n",
       "      <td>233.62</td>\n",
       "      <td>2</td>\n",
       "      <td>...</td>\n",
       "      <td>155</td>\n",
       "      <td>1</td>\n",
       "      <td>7</td>\n",
       "      <td>233.25</td>\n",
       "      <td>234.13</td>\n",
       "      <td>55</td>\n",
       "      <td>400</td>\n",
       "      <td>2</td>\n",
       "      <td>1</td>\n",
       "      <td>AAPL</td>\n",
       "    </tr>\n",
       "    <tr>\n",
       "      <th>1</th>\n",
       "      <td>2024-10-21T11:54:29.223936626Z</td>\n",
       "      <td>2024-10-21T11:54:29.223769812Z</td>\n",
       "      <td>10</td>\n",
       "      <td>2</td>\n",
       "      <td>38</td>\n",
       "      <td>A</td>\n",
       "      <td>B</td>\n",
       "      <td>0</td>\n",
       "      <td>233.67</td>\n",
       "      <td>2</td>\n",
       "      <td>...</td>\n",
       "      <td>155</td>\n",
       "      <td>1</td>\n",
       "      <td>7</td>\n",
       "      <td>233.25</td>\n",
       "      <td>234.13</td>\n",
       "      <td>55</td>\n",
       "      <td>400</td>\n",
       "      <td>2</td>\n",
       "      <td>1</td>\n",
       "      <td>AAPL</td>\n",
       "    </tr>\n",
       "    <tr>\n",
       "      <th>2</th>\n",
       "      <td>2024-10-21T11:54:29.225196809Z</td>\n",
       "      <td>2024-10-21T11:54:29.225030400Z</td>\n",
       "      <td>10</td>\n",
       "      <td>2</td>\n",
       "      <td>38</td>\n",
       "      <td>A</td>\n",
       "      <td>B</td>\n",
       "      <td>0</td>\n",
       "      <td>233.67</td>\n",
       "      <td>3</td>\n",
       "      <td>...</td>\n",
       "      <td>155</td>\n",
       "      <td>1</td>\n",
       "      <td>7</td>\n",
       "      <td>233.25</td>\n",
       "      <td>234.13</td>\n",
       "      <td>55</td>\n",
       "      <td>400</td>\n",
       "      <td>2</td>\n",
       "      <td>1</td>\n",
       "      <td>AAPL</td>\n",
       "    </tr>\n",
       "    <tr>\n",
       "      <th>3</th>\n",
       "      <td>2024-10-21T11:54:29.712600612Z</td>\n",
       "      <td>2024-10-21T11:54:29.712434212Z</td>\n",
       "      <td>10</td>\n",
       "      <td>2</td>\n",
       "      <td>38</td>\n",
       "      <td>A</td>\n",
       "      <td>B</td>\n",
       "      <td>2</td>\n",
       "      <td>233.52</td>\n",
       "      <td>200</td>\n",
       "      <td>...</td>\n",
       "      <td>155</td>\n",
       "      <td>1</td>\n",
       "      <td>7</td>\n",
       "      <td>233.25</td>\n",
       "      <td>234.13</td>\n",
       "      <td>55</td>\n",
       "      <td>400</td>\n",
       "      <td>2</td>\n",
       "      <td>1</td>\n",
       "      <td>AAPL</td>\n",
       "    </tr>\n",
       "    <tr>\n",
       "      <th>4</th>\n",
       "      <td>2024-10-21T11:54:29.764839221Z</td>\n",
       "      <td>2024-10-21T11:54:29.764673165Z</td>\n",
       "      <td>10</td>\n",
       "      <td>2</td>\n",
       "      <td>38</td>\n",
       "      <td>C</td>\n",
       "      <td>B</td>\n",
       "      <td>2</td>\n",
       "      <td>233.52</td>\n",
       "      <td>200</td>\n",
       "      <td>...</td>\n",
       "      <td>155</td>\n",
       "      <td>1</td>\n",
       "      <td>7</td>\n",
       "      <td>233.25</td>\n",
       "      <td>234.13</td>\n",
       "      <td>55</td>\n",
       "      <td>400</td>\n",
       "      <td>2</td>\n",
       "      <td>1</td>\n",
       "      <td>AAPL</td>\n",
       "    </tr>\n",
       "  </tbody>\n",
       "</table>\n",
       "<p>5 rows × 74 columns</p>\n",
       "</div>"
      ],
      "text/plain": [
       "                          ts_recv                        ts_event  rtype  \\\n",
       "0  2024-10-21T11:54:29.221230963Z  2024-10-21T11:54:29.221064336Z     10   \n",
       "1  2024-10-21T11:54:29.223936626Z  2024-10-21T11:54:29.223769812Z     10   \n",
       "2  2024-10-21T11:54:29.225196809Z  2024-10-21T11:54:29.225030400Z     10   \n",
       "3  2024-10-21T11:54:29.712600612Z  2024-10-21T11:54:29.712434212Z     10   \n",
       "4  2024-10-21T11:54:29.764839221Z  2024-10-21T11:54:29.764673165Z     10   \n",
       "\n",
       "   publisher_id  instrument_id action side  depth   price  size  ...  \\\n",
       "0             2             38      C    B      1  233.62     2  ...   \n",
       "1             2             38      A    B      0  233.67     2  ...   \n",
       "2             2             38      A    B      0  233.67     3  ...   \n",
       "3             2             38      A    B      2  233.52   200  ...   \n",
       "4             2             38      C    B      2  233.52   200  ...   \n",
       "\n",
       "   ask_sz_08  bid_ct_08  ask_ct_08  bid_px_09  ask_px_09  bid_sz_09  \\\n",
       "0        155          1          7     233.25     234.13         55   \n",
       "1        155          1          7     233.25     234.13         55   \n",
       "2        155          1          7     233.25     234.13         55   \n",
       "3        155          1          7     233.25     234.13         55   \n",
       "4        155          1          7     233.25     234.13         55   \n",
       "\n",
       "   ask_sz_09  bid_ct_09  ask_ct_09  symbol  \n",
       "0        400          2          1    AAPL  \n",
       "1        400          2          1    AAPL  \n",
       "2        400          2          1    AAPL  \n",
       "3        400          2          1    AAPL  \n",
       "4        400          2          1    AAPL  \n",
       "\n",
       "[5 rows x 74 columns]"
      ]
     },
     "execution_count": 4,
     "metadata": {},
     "output_type": "execute_result"
    }
   ],
   "source": [
    "import pandas as pd\n",
    "df= pd.read_csv('../data/first_25000_rows.csv')\n",
    "df.head()"
   ]
  },
  {
   "cell_type": "markdown",
   "metadata": {},
   "source": [
    "2. Explore the data"
   ]
  },
  {
   "cell_type": "code",
   "execution_count": 6,
   "metadata": {},
   "outputs": [
    {
     "name": "stdout",
     "output_type": "stream",
     "text": [
      "<class 'pandas.core.frame.DataFrame'>\n",
      "RangeIndex: 5000 entries, 0 to 4999\n",
      "Data columns (total 74 columns):\n",
      " #   Column         Non-Null Count  Dtype  \n",
      "---  ------         --------------  -----  \n",
      " 0   ts_recv        5000 non-null   object \n",
      " 1   ts_event       5000 non-null   object \n",
      " 2   rtype          5000 non-null   int64  \n",
      " 3   publisher_id   5000 non-null   int64  \n",
      " 4   instrument_id  5000 non-null   int64  \n",
      " 5   action         5000 non-null   object \n",
      " 6   side           5000 non-null   object \n",
      " 7   depth          5000 non-null   int64  \n",
      " 8   price          5000 non-null   float64\n",
      " 9   size           5000 non-null   int64  \n",
      " 10  flags          5000 non-null   int64  \n",
      " 11  ts_in_delta    5000 non-null   int64  \n",
      " 12  sequence       5000 non-null   int64  \n",
      " 13  bid_px_00      5000 non-null   float64\n",
      " 14  ask_px_00      5000 non-null   float64\n",
      " 15  bid_sz_00      5000 non-null   int64  \n",
      " 16  ask_sz_00      5000 non-null   int64  \n",
      " 17  bid_ct_00      5000 non-null   int64  \n",
      " 18  ask_ct_00      5000 non-null   int64  \n",
      " 19  bid_px_01      5000 non-null   float64\n",
      " 20  ask_px_01      5000 non-null   float64\n",
      " 21  bid_sz_01      5000 non-null   int64  \n",
      " 22  ask_sz_01      5000 non-null   int64  \n",
      " 23  bid_ct_01      5000 non-null   int64  \n",
      " 24  ask_ct_01      5000 non-null   int64  \n",
      " 25  bid_px_02      5000 non-null   float64\n",
      " 26  ask_px_02      5000 non-null   float64\n",
      " 27  bid_sz_02      5000 non-null   int64  \n",
      " 28  ask_sz_02      5000 non-null   int64  \n",
      " 29  bid_ct_02      5000 non-null   int64  \n",
      " 30  ask_ct_02      5000 non-null   int64  \n",
      " 31  bid_px_03      5000 non-null   float64\n",
      " 32  ask_px_03      5000 non-null   float64\n",
      " 33  bid_sz_03      5000 non-null   int64  \n",
      " 34  ask_sz_03      5000 non-null   int64  \n",
      " 35  bid_ct_03      5000 non-null   int64  \n",
      " 36  ask_ct_03      5000 non-null   int64  \n",
      " 37  bid_px_04      5000 non-null   float64\n",
      " 38  ask_px_04      5000 non-null   float64\n",
      " 39  bid_sz_04      5000 non-null   int64  \n",
      " 40  ask_sz_04      5000 non-null   int64  \n",
      " 41  bid_ct_04      5000 non-null   int64  \n",
      " 42  ask_ct_04      5000 non-null   int64  \n",
      " 43  bid_px_05      5000 non-null   float64\n",
      " 44  ask_px_05      5000 non-null   float64\n",
      " 45  bid_sz_05      5000 non-null   int64  \n",
      " 46  ask_sz_05      5000 non-null   int64  \n",
      " 47  bid_ct_05      5000 non-null   int64  \n",
      " 48  ask_ct_05      5000 non-null   int64  \n",
      " 49  bid_px_06      5000 non-null   float64\n",
      " 50  ask_px_06      5000 non-null   float64\n",
      " 51  bid_sz_06      5000 non-null   int64  \n",
      " 52  ask_sz_06      5000 non-null   int64  \n",
      " 53  bid_ct_06      5000 non-null   int64  \n",
      " 54  ask_ct_06      5000 non-null   int64  \n",
      " 55  bid_px_07      5000 non-null   float64\n",
      " 56  ask_px_07      5000 non-null   float64\n",
      " 57  bid_sz_07      5000 non-null   int64  \n",
      " 58  ask_sz_07      5000 non-null   int64  \n",
      " 59  bid_ct_07      5000 non-null   int64  \n",
      " 60  ask_ct_07      5000 non-null   int64  \n",
      " 61  bid_px_08      5000 non-null   float64\n",
      " 62  ask_px_08      5000 non-null   float64\n",
      " 63  bid_sz_08      5000 non-null   int64  \n",
      " 64  ask_sz_08      5000 non-null   int64  \n",
      " 65  bid_ct_08      5000 non-null   int64  \n",
      " 66  ask_ct_08      5000 non-null   int64  \n",
      " 67  bid_px_09      5000 non-null   float64\n",
      " 68  ask_px_09      5000 non-null   float64\n",
      " 69  bid_sz_09      5000 non-null   int64  \n",
      " 70  ask_sz_09      5000 non-null   int64  \n",
      " 71  bid_ct_09      5000 non-null   int64  \n",
      " 72  ask_ct_09      5000 non-null   int64  \n",
      " 73  symbol         5000 non-null   object \n",
      "dtypes: float64(21), int64(48), object(5)\n",
      "memory usage: 2.8+ MB\n"
     ]
    },
    {
     "data": {
      "text/plain": [
       "array([1, 0, 2, 6, 4, 3, 5, 7, 8, 9])"
      ]
     },
     "execution_count": 6,
     "metadata": {},
     "output_type": "execute_result"
    }
   ],
   "source": [
    "#colum info\n",
    "df.info()\n",
    "#check null values\n",
    "df.isnull().sum()\n",
    "#Unique symbols\n",
    "df['symbol'].unique()\n",
    "#depth levels\n",
    "df['depth'].unique()"
   ]
  },
  {
   "cell_type": "markdown",
   "metadata": {},
   "source": [
    "PREPROCESSING"
   ]
  },
  {
   "cell_type": "markdown",
   "metadata": {},
   "source": [
    "1. Convert Timestamps"
   ]
  },
  {
   "cell_type": "code",
   "execution_count": 7,
   "metadata": {},
   "outputs": [],
   "source": [
    "df['ts_event']=pd.to_datetime(df['ts_event'],utc=True)"
   ]
  },
  {
   "cell_type": "markdown",
   "metadata": {},
   "source": [
    "2. Sort Chronologically"
   ]
  },
  {
   "cell_type": "code",
   "execution_count": 8,
   "metadata": {},
   "outputs": [],
   "source": [
    "df=df.sort_values('ts_event')"
   ]
  },
  {
   "cell_type": "markdown",
   "metadata": {},
   "source": [
    "3. Filter Relevant Colums"
   ]
  },
  {
   "cell_type": "code",
   "execution_count": 10,
   "metadata": {},
   "outputs": [],
   "source": [
    "df = df[['ts_event', 'symbol', 'side', 'action', 'depth', 'price', 'size']]"
   ]
  },
  {
   "cell_type": "markdown",
   "metadata": {},
   "source": [
    "4. Validate 'side' and 'action' values"
   ]
  },
  {
   "cell_type": "code",
   "execution_count": 11,
   "metadata": {},
   "outputs": [
    {
     "name": "stdout",
     "output_type": "stream",
     "text": [
      "['B' 'A' 'N']\n",
      "['C' 'A' 'T']\n"
     ]
    }
   ],
   "source": [
    "print(df['side'].unique())\n",
    "print(df['action'].unique())"
   ]
  },
  {
   "cell_type": "markdown",
   "metadata": {},
   "source": [
    "5. Drop Missing or Invalid Rows"
   ]
  },
  {
   "cell_type": "code",
   "execution_count": 12,
   "metadata": {},
   "outputs": [],
   "source": [
    "df = df.dropna(subset=['ts_event', 'symbol', 'side', 'action', 'depth', 'price', 'size'])"
   ]
  },
  {
   "cell_type": "markdown",
   "metadata": {},
   "source": [
    "6. Standardize data types"
   ]
  },
  {
   "cell_type": "code",
   "execution_count": 13,
   "metadata": {},
   "outputs": [],
   "source": [
    "df['depth']= df['depth'].astype(int)\n",
    "df['size']=df['size'].astype(int)\n",
    "df['price']=df['price'].astype(float)"
   ]
  },
  {
   "cell_type": "markdown",
   "metadata": {},
   "source": [
    "Saving the cleaned dataset"
   ]
  },
  {
   "cell_type": "code",
   "execution_count": 18,
   "metadata": {},
   "outputs": [
    {
     "name": "stdout",
     "output_type": "stream",
     "text": [
      "Saved cleaned file to: TRAIL TASK/Data/cleaned_first_25000_rows.csv\n"
     ]
    }
   ],
   "source": [
    "import os\n",
    "\n",
    "# Create folder if it doesn't exist\n",
    "os.makedirs(\"TRAIL TASK/Data\", exist_ok=True)\n",
    "\n",
    "# Now save the cleaned CSV\n",
    "df.to_csv(\"../Data/cleaned_first_25000_rows.csv\", index=False)\n",
    "\n",
    "print(\"Saved cleaned file to: TRAIL TASK/Data/cleaned_first_25000_rows.csv\")\n"
   ]
  }
 ],
 "metadata": {
  "kernelspec": {
   "display_name": "myenv",
   "language": "python",
   "name": "python3"
  },
  "language_info": {
   "codemirror_mode": {
    "name": "ipython",
    "version": 3
   },
   "file_extension": ".py",
   "mimetype": "text/x-python",
   "name": "python",
   "nbconvert_exporter": "python",
   "pygments_lexer": "ipython3",
   "version": "3.11.11"
  }
 },
 "nbformat": 4,
 "nbformat_minor": 2
}
