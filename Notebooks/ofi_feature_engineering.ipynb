{
 "cells": [
  {
   "cell_type": "markdown",
   "metadata": {},
   "source": [
    "1. Import Packages and load the cleaned dataset"
   ]
  },
  {
   "cell_type": "code",
   "execution_count": 1,
   "metadata": {},
   "outputs": [],
   "source": [
    "import pandas as pd\n",
    "import numpy as np\n",
    "from sklearn.decomposition import PCA\n",
    "from functools import reduce\n",
    "\n",
    "df = pd.read_csv(\"../Data/cleaned_first_25000_rows.csv\", parse_dates=['ts_event'])"
   ]
  },
  {
   "cell_type": "markdown",
   "metadata": {},
   "source": [
    "COMPUTE ORDER FLOW IMBALANCE VALUES "
   ]
  },
  {
   "cell_type": "code",
   "execution_count": 2,
   "metadata": {},
   "outputs": [],
   "source": [
    "def compute_ofi(row):\n",
    "    if row['side'] == 'B' and row['action'] == 'A':\n",
    "        return row['size']\n",
    "    elif row['side'] == 'B' and row['action'] == 'C':\n",
    "        return -row['size']\n",
    "    elif row['side'] == 'S' and row['action'] == 'A':\n",
    "        return -row['size']\n",
    "    elif row['side'] == 'S' and row['action'] == 'C':\n",
    "        return row['size']\n",
    "    return 0\n",
    "\n",
    "df['ofi'] = df.apply(compute_ofi, axis=1)\n",
    "df.set_index('ts_event', inplace=True)"
   ]
  },
  {
   "cell_type": "markdown",
   "metadata": {},
   "source": [
    "COMPUTE BEST LEVEL ORDER FLOW IMBALANCE"
   ]
  },
  {
   "cell_type": "code",
   "execution_count": 3,
   "metadata": {},
   "outputs": [],
   "source": [
    "ofi_best = (\n",
    "    df[df['depth'] == 0]\n",
    "    .groupby(['symbol', pd.Grouper(freq='1Min')])['ofi']\n",
    "    .sum()\n",
    "    .reset_index()\n",
    "    .rename(columns={'ts_event': 'timestamp', 'ofi': 'ofi_best'})\n",
    ")"
   ]
  },
  {
   "cell_type": "markdown",
   "metadata": {},
   "source": [
    "COMPUTE MULTI-LEVEL ORDER FLOW IMBALANCE"
   ]
  },
  {
   "cell_type": "code",
   "execution_count": 4,
   "metadata": {},
   "outputs": [],
   "source": [
    "ofi_levels = []\n",
    "for lvl in range(10):\n",
    "    lvl_ofi = (\n",
    "        df[df['depth'] == lvl]\n",
    "        .groupby(['symbol', pd.Grouper(freq='1Min')])['ofi']\n",
    "        .sum()\n",
    "        .reset_index()\n",
    "        .rename(columns={'ts_event': 'timestamp', 'ofi': f'ofi_lvl_{lvl}'})\n",
    "    )\n",
    "    ofi_levels.append(lvl_ofi)"
   ]
  },
  {
   "cell_type": "markdown",
   "metadata": {},
   "source": [
    "1. Merge all OFI features"
   ]
  },
  {
   "cell_type": "code",
   "execution_count": 5,
   "metadata": {},
   "outputs": [],
   "source": [
    "df_merged = reduce(\n",
    "    lambda left, right: pd.merge(left, right, on=['symbol', 'timestamp'], how='outer'),\n",
    "    [ofi_best] + ofi_levels\n",
    ")\n",
    "df_merged = df_merged.sort_values(['symbol', 'timestamp']).reset_index(drop=True)"
   ]
  },
  {
   "cell_type": "markdown",
   "metadata": {},
   "source": [
    "COMPUTE INTEGRATED ORDER FLOW IMBALANCE VIA PCA"
   ]
  },
  {
   "cell_type": "code",
   "execution_count": 6,
   "metadata": {},
   "outputs": [
    {
     "name": "stderr",
     "output_type": "stream",
     "text": [
      "/var/folders/yq/pgkldf4s0ng9v2h3wf5m0chw0000gn/T/ipykernel_64971/390934955.py:8: DeprecationWarning: DataFrameGroupBy.apply operated on the grouping columns. This behavior is deprecated, and in a future version of pandas the grouping columns will be excluded from the operation. Either pass `include_groups=False` to exclude the groupings or explicitly select the grouping columns after groupby to silence this warning.\n",
      "  df_merged = df_merged.groupby('symbol', group_keys=False).apply(apply_pca)\n"
     ]
    }
   ],
   "source": [
    "def apply_pca(group):\n",
    "    level_cols = [f'ofi_lvl_{i}' for i in range(10)]\n",
    "    levels = group[level_cols].fillna(0)\n",
    "    pca = PCA(n_components=1)\n",
    "    group['ofi_integrated'] = pca.fit_transform(levels)\n",
    "    return group\n",
    "\n",
    "df_merged = df_merged.groupby('symbol', group_keys=False).apply(apply_pca)"
   ]
  },
  {
   "cell_type": "markdown",
   "metadata": {},
   "source": [
    "COMPUTE CROSS-ASSET ORDER FORM IMBALANCE"
   ]
  },
  {
   "cell_type": "code",
   "execution_count": 7,
   "metadata": {},
   "outputs": [
    {
     "name": "stderr",
     "output_type": "stream",
     "text": [
      "/var/folders/yq/pgkldf4s0ng9v2h3wf5m0chw0000gn/T/ipykernel_64971/2455666308.py:6: DeprecationWarning: DataFrameGroupBy.apply operated on the grouping columns. This behavior is deprecated, and in a future version of pandas the grouping columns will be excluded from the operation. Either pass `include_groups=False` to exclude the groupings or explicitly select the grouping columns after groupby to silence this warning.\n",
      "  df_merged = df_merged.groupby('timestamp', group_keys=False).apply(compute_cross_asset)\n"
     ]
    }
   ],
   "source": [
    "# For each timestamp, compute mean integrated OFI across all symbols\n",
    "def compute_cross_asset(group):\n",
    "    group['ofi_cross_asset'] = group['ofi_integrated'].mean()\n",
    "    return group\n",
    "\n",
    "df_merged = df_merged.groupby('timestamp', group_keys=False).apply(compute_cross_asset)\n"
   ]
  },
  {
   "cell_type": "markdown",
   "metadata": {},
   "source": [
    "FINAL FEATURE SET"
   ]
  },
  {
   "cell_type": "code",
   "execution_count": 8,
   "metadata": {},
   "outputs": [
    {
     "name": "stdout",
     "output_type": "stream",
     "text": [
      "Saved final OFI feature dataset to: ../Data/ofi_all_features.csv\n"
     ]
    }
   ],
   "source": [
    "df_merged.to_csv(\"../Data/ofi_all_features.csv\", index=False)\n",
    "print(\"Saved final OFI feature dataset to: ../Data/ofi_all_features.csv\")"
   ]
  },
  {
   "cell_type": "code",
   "execution_count": 9,
   "metadata": {},
   "outputs": [
    {
     "data": {
      "text/html": [
       "<div>\n",
       "<style scoped>\n",
       "    .dataframe tbody tr th:only-of-type {\n",
       "        vertical-align: middle;\n",
       "    }\n",
       "\n",
       "    .dataframe tbody tr th {\n",
       "        vertical-align: top;\n",
       "    }\n",
       "\n",
       "    .dataframe thead th {\n",
       "        text-align: right;\n",
       "    }\n",
       "</style>\n",
       "<table border=\"1\" class=\"dataframe\">\n",
       "  <thead>\n",
       "    <tr style=\"text-align: right;\">\n",
       "      <th></th>\n",
       "      <th>symbol</th>\n",
       "      <th>timestamp</th>\n",
       "      <th>ofi_best</th>\n",
       "      <th>ofi_lvl_0</th>\n",
       "      <th>ofi_lvl_1</th>\n",
       "      <th>ofi_lvl_2</th>\n",
       "      <th>ofi_lvl_3</th>\n",
       "      <th>ofi_lvl_4</th>\n",
       "      <th>ofi_lvl_5</th>\n",
       "      <th>ofi_lvl_6</th>\n",
       "      <th>ofi_lvl_7</th>\n",
       "      <th>ofi_lvl_8</th>\n",
       "      <th>ofi_lvl_9</th>\n",
       "      <th>ofi_integrated</th>\n",
       "      <th>ofi_cross_asset</th>\n",
       "    </tr>\n",
       "  </thead>\n",
       "  <tbody>\n",
       "    <tr>\n",
       "      <th>0</th>\n",
       "      <td>AAPL</td>\n",
       "      <td>2024-10-21 11:54:00+00:00</td>\n",
       "      <td>5</td>\n",
       "      <td>5</td>\n",
       "      <td>798.0</td>\n",
       "      <td>0</td>\n",
       "      <td>-1.0</td>\n",
       "      <td>0.0</td>\n",
       "      <td>0.0</td>\n",
       "      <td>0.0</td>\n",
       "      <td>NaN</td>\n",
       "      <td>NaN</td>\n",
       "      <td>NaN</td>\n",
       "      <td>-580.094433</td>\n",
       "      <td>-580.094433</td>\n",
       "    </tr>\n",
       "    <tr>\n",
       "      <th>1</th>\n",
       "      <td>AAPL</td>\n",
       "      <td>2024-10-21 11:55:00+00:00</td>\n",
       "      <td>-516</td>\n",
       "      <td>-516</td>\n",
       "      <td>1173.0</td>\n",
       "      <td>1257</td>\n",
       "      <td>-57.0</td>\n",
       "      <td>0.0</td>\n",
       "      <td>NaN</td>\n",
       "      <td>0.0</td>\n",
       "      <td>NaN</td>\n",
       "      <td>NaN</td>\n",
       "      <td>NaN</td>\n",
       "      <td>676.386697</td>\n",
       "      <td>676.386697</td>\n",
       "    </tr>\n",
       "    <tr>\n",
       "      <th>2</th>\n",
       "      <td>AAPL</td>\n",
       "      <td>2024-10-21 11:56:00+00:00</td>\n",
       "      <td>-1</td>\n",
       "      <td>-1</td>\n",
       "      <td>0.0</td>\n",
       "      <td>1400</td>\n",
       "      <td>0.0</td>\n",
       "      <td>0.0</td>\n",
       "      <td>NaN</td>\n",
       "      <td>NaN</td>\n",
       "      <td>0.0</td>\n",
       "      <td>NaN</td>\n",
       "      <td>NaN</td>\n",
       "      <td>729.795270</td>\n",
       "      <td>729.795270</td>\n",
       "    </tr>\n",
       "    <tr>\n",
       "      <th>3</th>\n",
       "      <td>AAPL</td>\n",
       "      <td>2024-10-21 11:57:00+00:00</td>\n",
       "      <td>201</td>\n",
       "      <td>201</td>\n",
       "      <td>373.0</td>\n",
       "      <td>800</td>\n",
       "      <td>229.0</td>\n",
       "      <td>0.0</td>\n",
       "      <td>0.0</td>\n",
       "      <td>0.0</td>\n",
       "      <td>NaN</td>\n",
       "      <td>NaN</td>\n",
       "      <td>NaN</td>\n",
       "      <td>84.142324</td>\n",
       "      <td>84.142324</td>\n",
       "    </tr>\n",
       "    <tr>\n",
       "      <th>4</th>\n",
       "      <td>AAPL</td>\n",
       "      <td>2024-10-21 11:58:00+00:00</td>\n",
       "      <td>162</td>\n",
       "      <td>162</td>\n",
       "      <td>-540.0</td>\n",
       "      <td>366</td>\n",
       "      <td>35.0</td>\n",
       "      <td>-26.0</td>\n",
       "      <td>0.0</td>\n",
       "      <td>0.0</td>\n",
       "      <td>0.0</td>\n",
       "      <td>NaN</td>\n",
       "      <td>NaN</td>\n",
       "      <td>-285.806836</td>\n",
       "      <td>-285.806836</td>\n",
       "    </tr>\n",
       "  </tbody>\n",
       "</table>\n",
       "</div>"
      ],
      "text/plain": [
       "  symbol                 timestamp  ofi_best  ofi_lvl_0  ofi_lvl_1  ofi_lvl_2  \\\n",
       "0   AAPL 2024-10-21 11:54:00+00:00         5          5      798.0          0   \n",
       "1   AAPL 2024-10-21 11:55:00+00:00      -516       -516     1173.0       1257   \n",
       "2   AAPL 2024-10-21 11:56:00+00:00        -1         -1        0.0       1400   \n",
       "3   AAPL 2024-10-21 11:57:00+00:00       201        201      373.0        800   \n",
       "4   AAPL 2024-10-21 11:58:00+00:00       162        162     -540.0        366   \n",
       "\n",
       "   ofi_lvl_3  ofi_lvl_4  ofi_lvl_5  ofi_lvl_6  ofi_lvl_7  ofi_lvl_8  \\\n",
       "0       -1.0        0.0        0.0        0.0        NaN        NaN   \n",
       "1      -57.0        0.0        NaN        0.0        NaN        NaN   \n",
       "2        0.0        0.0        NaN        NaN        0.0        NaN   \n",
       "3      229.0        0.0        0.0        0.0        NaN        NaN   \n",
       "4       35.0      -26.0        0.0        0.0        0.0        NaN   \n",
       "\n",
       "   ofi_lvl_9  ofi_integrated  ofi_cross_asset  \n",
       "0        NaN     -580.094433      -580.094433  \n",
       "1        NaN      676.386697       676.386697  \n",
       "2        NaN      729.795270       729.795270  \n",
       "3        NaN       84.142324        84.142324  \n",
       "4        NaN     -285.806836      -285.806836  "
      ]
     },
     "execution_count": 9,
     "metadata": {},
     "output_type": "execute_result"
    }
   ],
   "source": [
    "df_merged.head()"
   ]
  }
 ],
 "metadata": {
  "kernelspec": {
   "display_name": "myenv",
   "language": "python",
   "name": "python3"
  },
  "language_info": {
   "codemirror_mode": {
    "name": "ipython",
    "version": 3
   },
   "file_extension": ".py",
   "mimetype": "text/x-python",
   "name": "python",
   "nbconvert_exporter": "python",
   "pygments_lexer": "ipython3",
   "version": "3.11.11"
  }
 },
 "nbformat": 4,
 "nbformat_minor": 2
}
